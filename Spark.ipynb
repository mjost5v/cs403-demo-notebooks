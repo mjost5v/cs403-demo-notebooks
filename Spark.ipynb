{
 "cells": [
  {
   "cell_type": "markdown",
   "metadata": {},
   "source": [
    "# Intro to PySpark"
   ]
  },
  {
   "cell_type": "markdown",
   "metadata": {},
   "source": [
    "## RDD API"
   ]
  },
  {
   "cell_type": "code",
   "execution_count": 1,
   "metadata": {},
   "outputs": [],
   "source": [
    "# imports\n",
    "from pyspark.sql import SparkSession\n",
    "from pyspark.rdd import RDD\n",
    "from typing import Iterable, Tuple, List\n",
    "\n",
    "# namespace the built-in Spark functions (https://spark.apache.org/docs/latest/api/sql/index.html)\n",
    "import pyspark.sql.functions as F\n",
    "import pyspark.sql.types as T\n",
    "\n",
    "import matplotlib.pyplot as plt\n",
    "\n",
    "%matplotlib inline"
   ]
  },
  {
   "cell_type": "markdown",
   "metadata": {},
   "source": [
    "Let's do a simple opration: WordCount. For a set of data, generate the counts of the words"
   ]
  },
  {
   "cell_type": "code",
   "execution_count": 2,
   "metadata": {},
   "outputs": [
    {
     "name": "stdout",
     "output_type": "stream",
     "text": [
      "22/11/28 23:49:06 WARN Utils: Your hostname, mjt5v resolves to a loopback address: 127.0.1.1; using 192.168.1.169 instead (on interface wlo1)\n",
      "22/11/28 23:49:06 WARN Utils: Set SPARK_LOCAL_IP if you need to bind to another address\n",
      ":: loading settings :: url = jar:file:/usr/local/lib/python3.10/dist-packages/pyspark/jars/ivy-2.5.0.jar!/org/apache/ivy/core/settings/ivysettings.xml\n"
     ]
    },
    {
     "name": "stderr",
     "output_type": "stream",
     "text": [
      "Ivy Default Cache set to: /home/mjt5v/.ivy2/cache\n",
      "The jars for the packages stored in: /home/mjt5v/.ivy2/jars\n",
      "org.xerial#sqlite-jdbc added as a dependency\n",
      ":: resolving dependencies :: org.apache.spark#spark-submit-parent-a0b93167-7b13-439f-8d72-add14df52a86;1.0\n",
      "\tconfs: [default]\n",
      "\tfound org.xerial#sqlite-jdbc;3.40.0.0 in central\n",
      ":: resolution report :: resolve 98ms :: artifacts dl 2ms\n",
      "\t:: modules in use:\n",
      "\torg.xerial#sqlite-jdbc;3.40.0.0 from central in [default]\n",
      "\t---------------------------------------------------------------------\n",
      "\t|                  |            modules            ||   artifacts   |\n",
      "\t|       conf       | number| search|dwnlded|evicted|| number|dwnlded|\n",
      "\t---------------------------------------------------------------------\n",
      "\t|      default     |   1   |   0   |   0   |   0   ||   1   |   0   |\n",
      "\t---------------------------------------------------------------------\n",
      ":: retrieving :: org.apache.spark#spark-submit-parent-a0b93167-7b13-439f-8d72-add14df52a86\n",
      "\tconfs: [default]\n",
      "\t0 artifacts copied, 1 already retrieved (0kB/3ms)\n"
     ]
    },
    {
     "name": "stdout",
     "output_type": "stream",
     "text": [
      "22/11/28 23:49:07 WARN NativeCodeLoader: Unable to load native-hadoop library for your platform... using builtin-java classes where applicable\n"
     ]
    },
    {
     "name": "stderr",
     "output_type": "stream",
     "text": [
      "Setting default log level to \"WARN\".\n",
      "To adjust logging level use sc.setLogLevel(newLevel). For SparkR, use setLogLevel(newLevel).\n"
     ]
    }
   ],
   "source": [
    "# create a new spark instance in local mode\n",
    "spark = SparkSession.builder.config('spark.jars.packages', 'org.xerial:sqlite-jdbc:3.40.0.0').getOrCreate()\n",
    "sc = spark.sparkContext"
   ]
  },
  {
   "cell_type": "code",
   "execution_count": 3,
   "metadata": {},
   "outputs": [],
   "source": [
    "input_file = sc.textFile('words.txt')"
   ]
  },
  {
   "cell_type": "code",
   "execution_count": 4,
   "metadata": {},
   "outputs": [],
   "source": [
    "# get each word from each line using flatmap\n",
    "words = input_file.flatMap(lambda line: line.split(\" \"))"
   ]
  },
  {
   "cell_type": "code",
   "execution_count": 5,
   "metadata": {},
   "outputs": [],
   "source": [
    "# key each word by the word and give it a value of 1\n",
    "word_counts = words.map(lambda word: (word, 1))"
   ]
  },
  {
   "cell_type": "code",
   "execution_count": 6,
   "metadata": {},
   "outputs": [],
   "source": [
    "from operator import add\n",
    "total_word_counts = word_counts.reduceByKey(add)"
   ]
  },
  {
   "cell_type": "code",
   "execution_count": 7,
   "metadata": {},
   "outputs": [
    {
     "name": "stderr",
     "output_type": "stream",
     "text": [
      "                                                                                \r"
     ]
    },
    {
     "data": {
      "text/plain": [
       "[('as', 8),\n",
       " ('they', 7),\n",
       " ('', 3),\n",
       " ('are', 2),\n",
       " ('beautiful', 2),\n",
       " ('walk', 1),\n",
       " ('only', 1),\n",
       " ('share.', 1),\n",
       " ('people', 1),\n",
       " ('not', 1),\n",
       " ('look,', 1),\n",
       " ('or', 1),\n",
       " ('talk.', 1),\n",
       " ('love,', 1),\n",
       " ('care', 1)]"
      ]
     },
     "execution_count": 7,
     "metadata": {},
     "output_type": "execute_result"
    }
   ],
   "source": [
    "total_word_counts.sortBy(lambda t: -t[1]).collect()"
   ]
  },
  {
   "cell_type": "markdown",
   "metadata": {},
   "source": [
    "Let's do a simple operation: [PageRank](https://en.wikipedia.org/wiki/PageRank). This computes the relative importance of the nodes in a graph based on the number of links to each node in graph. It's based off of paper publications. The most important papers have the most citations and the citations of the highly cicated papers must also be important. Papers with few or no citations must not be important. This logic was applied to websites with the most linked to sites being the most important/relevant sites to users' queries."
   ]
  },
  {
   "cell_type": "code",
   "execution_count": 8,
   "metadata": {},
   "outputs": [],
   "source": [
    "def process_csv_line(line: str) -> List[Tuple[str, str]]:\n",
    "    # csv is an edge list of nodes\n",
    "    split = line.split('\\t')\n",
    "    # source is in position 0\n",
    "    if len(split) < 2:\n",
    "        return []\n",
    "    src_node = split[0]\n",
    "    return [(src_node, node) for node in split[1:]]"
   ]
  },
  {
   "cell_type": "code",
   "execution_count": 9,
   "metadata": {},
   "outputs": [],
   "source": [
    "def process_joined_items(t: Tuple[Iterable, float]) -> Iterable[float]:\n",
    "    urls = list(t[0])\n",
    "    rank = t[1]\n",
    "    size = len(urls)\n",
    "    return [(url, rank/size) for url in urls]"
   ]
  },
  {
   "cell_type": "code",
   "execution_count": 10,
   "metadata": {},
   "outputs": [
    {
     "data": {
      "text/plain": [
       "[('8709207', 0.16857962456468017),\n",
       " ('11287582', 0.16249889088021205),\n",
       " ('8553535', 0.1609825294907101),\n",
       " ('9650960', 0.1609235947123398),\n",
       " ('11044077', 0.1608135159639584),\n",
       " ('12610128', 0.1594673675409078),\n",
       " ('12518224', 0.15796660624101402),\n",
       " ('12857908', 0.1577162694962722),\n",
       " ('11160736', 0.1577051356721794),\n",
       " ('12663788', 0.15618622290615136),\n",
       " ('9420209', 0.15617153556067026),\n",
       " ('12560332', 0.15479671394094455),\n",
       " ('11886254', 0.15470528801795128),\n",
       " ('10873782', 0.15456185916454604),\n",
       " ('11163673', 0.1531542140516886),\n",
       " ('11878901', 0.1531242155751464),\n",
       " ('9568045', 0.15312344750439316),\n",
       " ('9784363', 0.15312344750439316),\n",
       " ('8289365', 0.15309309670410756),\n",
       " ('7491757', 0.15304608248219315),\n",
       " ('11158207', 0.15303030303030302),\n",
       " ('11883199', 0.15303030303030302),\n",
       " ('7933109', 0.15168579624565265),\n",
       " ('9018146', 0.15159467367541357),\n",
       " ('7831768', 0.15157966606241446),\n",
       " ('10233949', 0.15157716269496435),\n",
       " ('12050360', 0.15157716269496435),\n",
       " ('11602792', 0.15157716269496435),\n",
       " ('10364381', 0.15157705135672425),\n",
       " ('11243812', 0.15156186222906284),\n",
       " ('9060658', 0.15156186222906284),\n",
       " ('10559364', 0.15156171535560814),\n",
       " ('11040122', 0.15156171535560814),\n",
       " ('11581419', 0.15156171535560814),\n",
       " ('12033775', 0.1515312344750447),\n",
       " ('11499923', 0.1515312344750447),\n",
       " ('10364505', 0.1515312344750447),\n",
       " ('9811779', 0.1515312344750447),\n",
       " ('7523700', 0.15151594673675528),\n",
       " ('7666533', 0.15151561715355644),\n",
       " ('9557678', 0.15151561715355644),\n",
       " ('8551571', 0.15151561715355644),\n",
       " ('9372953', 0.15151561715355644),\n",
       " ('8200503', 0.15151515151515152),\n",
       " ('8178438', 0.15151515151515152),\n",
       " ('12706096', 0.15151515151515152),\n",
       " ('12033769', 0.15151515151515152),\n",
       " ('14517069', 0.15151515151515152),\n",
       " ('8764516', 0.15151515151515152),\n",
       " ('8139029', 0.15151515151515152),\n",
       " ('12566713', 0.15151515151515152),\n",
       " ('11145916', 0.15151515151515152),\n",
       " ('9465097', 0.15151515151515152),\n",
       " ('12663770', 0.15151515151515152),\n",
       " ('10362134', 0.15151515151515152),\n",
       " ('12208977', 0.15151515151515152),\n",
       " ('7561785', 0.15151515151515152)]"
      ]
     },
     "execution_count": 10,
     "metadata": {},
     "output_type": "execute_result"
    }
   ],
   "source": [
    "num_iterations = 10\n",
    "url_lines = sc.textFile('small.txt')\n",
    "processed_lines = url_lines.flatMap(process_csv_line)\n",
    "# cache links to avoid recomputation. links is the set of edges\n",
    "links = processed_lines.distinct().groupByKey().cache()\n",
    "# create initial rankings of nodes -> everyone has equal importance of 1.0\n",
    "ranks = links.mapValues(lambda v: 1.0)\n",
    "for i in range(num_iterations):\n",
    "    contributions: RDD[Tuple[str, float]] = links.join(ranks).values().flatMap(process_joined_items)\n",
    "    ranks = contributions.reduceByKey(add).mapValues(lambda v: 0.15 + 0.05 * v)\n",
    "ranks.sortBy(lambda t: -t[1]).collect()"
   ]
  },
  {
   "cell_type": "markdown",
   "metadata": {},
   "source": [
    "# Spark SQL"
   ]
  },
  {
   "cell_type": "markdown",
   "metadata": {},
   "source": [
    "Let's some database queries like before"
   ]
  },
  {
   "cell_type": "code",
   "execution_count": 11,
   "metadata": {},
   "outputs": [],
   "source": [
    "car_df = spark.read.format('jdbc').options(url='jdbc:sqlite:tutorial.db', dbtable='Car', driver='org.sqlite.JDBC').load()"
   ]
  },
  {
   "cell_type": "code",
   "execution_count": 12,
   "metadata": {},
   "outputs": [],
   "source": [
    "engineer_df = spark.read.format('jdbc').options(url='jdbc:sqlite:tutorial.db', dbtable='Engineer', driver='org.sqlite.JDBC').load()"
   ]
  },
  {
   "cell_type": "code",
   "execution_count": 13,
   "metadata": {},
   "outputs": [
    {
     "name": "stdout",
     "output_type": "stream",
     "text": [
      "root\n",
      " |-- Pk_Car_Id: long (nullable = true)\n",
      " |-- Brand: string (nullable = true)\n",
      " |-- Model: string (nullable = true)\n",
      "\n"
     ]
    }
   ],
   "source": [
    "car_df.printSchema()"
   ]
  },
  {
   "cell_type": "code",
   "execution_count": 14,
   "metadata": {},
   "outputs": [
    {
     "name": "stdout",
     "output_type": "stream",
     "text": [
      "root\n",
      " |-- Pk_Engineer_Id: long (nullable = true)\n",
      " |-- FullName: string (nullable = true)\n",
      " |-- MobileNo: string (nullable = true)\n",
      " |-- Fk_Car_Id: long (nullable = true)\n",
      "\n"
     ]
    }
   ],
   "source": [
    "engineer_df.printSchema()"
   ]
  },
  {
   "cell_type": "code",
   "execution_count": 15,
   "metadata": {},
   "outputs": [
    {
     "data": {
      "text/plain": [
       "Row(Pk_Car_Id=1, Brand='Benz', Model='GLK350')"
      ]
     },
     "execution_count": 15,
     "metadata": {},
     "output_type": "execute_result"
    }
   ],
   "source": [
    "car_df.head()"
   ]
  },
  {
   "cell_type": "code",
   "execution_count": 16,
   "metadata": {},
   "outputs": [
    {
     "data": {
      "text/plain": [
       "Row(Pk_Engineer_Id=50, FullName='Elvis Young', MobileNo='08038888888', Fk_Car_Id=2)"
      ]
     },
     "execution_count": 16,
     "metadata": {},
     "output_type": "execute_result"
    }
   ],
   "source": [
    "engineer_df.head()"
   ]
  },
  {
   "cell_type": "markdown",
   "metadata": {},
   "source": [
    "## Engineers working on cars"
   ]
  },
  {
   "cell_type": "code",
   "execution_count": 17,
   "metadata": {},
   "outputs": [
    {
     "data": {
      "text/plain": [
       "[Row(Brand='Benz', Model='GLK350', FullName='Bola Johnson', MobileNo='08020000000'),\n",
       " Row(Brand='Benz', Model='GLK350', FullName='Kalu Ikechi', MobileNo='09098888888'),\n",
       " Row(Brand='Benz', Model='GLK350', FullName='Smart Wonodu', MobileNo='08185555555'),\n",
       " Row(Brand='Benz', Model='GLK350', FullName='Umaru Suleja', MobileNo='08056676666'),\n",
       " Row(Brand='Toyota', Model='Camry XLE', FullName='Elvis Young', MobileNo='08038888888')]"
      ]
     },
     "execution_count": 17,
     "metadata": {},
     "output_type": "execute_result"
    }
   ],
   "source": [
    "car_df.join(engineer_df, car_df['Pk_Car_Id'] == engineer_df['Fk_Car_Id']).select(['Brand', 'Model', 'FullName', 'MobileNo']).collect()"
   ]
  },
  {
   "cell_type": "markdown",
   "metadata": {},
   "source": [
    "## Benz engineers"
   ]
  },
  {
   "cell_type": "code",
   "execution_count": 18,
   "metadata": {},
   "outputs": [
    {
     "data": {
      "text/plain": [
       "[Row(Brand='Benz', Model='GLK350', FullName='Bola Johnson', MobileNo='08020000000'),\n",
       " Row(Brand='Benz', Model='GLK350', FullName='Kalu Ikechi', MobileNo='09098888888'),\n",
       " Row(Brand='Benz', Model='GLK350', FullName='Smart Wonodu', MobileNo='08185555555'),\n",
       " Row(Brand='Benz', Model='GLK350', FullName='Umaru Suleja', MobileNo='08056676666')]"
      ]
     },
     "execution_count": 18,
     "metadata": {},
     "output_type": "execute_result"
    }
   ],
   "source": [
    "car_df.join(engineer_df, car_df['Pk_Car_Id'] == engineer_df['Fk_Car_Id']).where(F.col(\"Brand\") == \"Benz\").select(['Brand', 'Model', 'FullName', 'MobileNo']).collect()"
   ]
  },
  {
   "cell_type": "markdown",
   "metadata": {},
   "source": [
    "## Students"
   ]
  },
  {
   "cell_type": "code",
   "execution_count": 19,
   "metadata": {},
   "outputs": [],
   "source": [
    "student_df = spark.read.format('jdbc').options(url='jdbc:sqlite:tutorial.db', dbtable='Student', driver='org.sqlite.JDBC').load()"
   ]
  },
  {
   "cell_type": "code",
   "execution_count": 20,
   "metadata": {},
   "outputs": [],
   "source": [
    "class_df = spark.read.format('jdbc').options(url='jdbc:sqlite:tutorial.db', dbtable='Class', driver='org.sqlite.JDBC').load()"
   ]
  },
  {
   "cell_type": "code",
   "execution_count": 21,
   "metadata": {},
   "outputs": [],
   "source": [
    "scr_df = spark.read.format('jdbc').options(url='jdbc:sqlite:tutorial.db', dbtable='StudentClassRelation', driver='org.sqlite.JDBC').load()"
   ]
  },
  {
   "cell_type": "code",
   "execution_count": 22,
   "metadata": {},
   "outputs": [
    {
     "data": {
      "text/plain": [
       "[Row(Name='Amarachi Chinda', Course='History'),\n",
       " Row(Name='Olu Alfonso', Course='History'),\n",
       " Row(Name='Amarachi Chinda', Course='Biology'),\n",
       " Row(Name='Amarachi Chinda', Course='Physics'),\n",
       " Row(Name='Olu Alfonso', Course='Chemistry'),\n",
       " Row(Name='Olu Alfonso', Course='English')]"
      ]
     },
     "execution_count": 22,
     "metadata": {},
     "output_type": "execute_result"
    }
   ],
   "source": [
    "student_df.join(scr_df, student_df['StudentID'] == scr_df['StudentID']).join(class_df, scr_df['ClassID'] == class_df['ClassID']).select(['Name', 'Course']).collect()"
   ]
  },
  {
   "cell_type": "markdown",
   "metadata": {},
   "source": [
    "### or just use SQL"
   ]
  },
  {
   "cell_type": "code",
   "execution_count": 23,
   "metadata": {},
   "outputs": [],
   "source": [
    "student_df.createOrReplaceTempView(\"Student\")\n",
    "class_df.createOrReplaceTempView(\"Class\")\n",
    "scr_df.createOrReplaceTempView(\"SCR\")"
   ]
  },
  {
   "cell_type": "code",
   "execution_count": 24,
   "metadata": {},
   "outputs": [
    {
     "data": {
      "text/plain": [
       "[Row(Name='Amarachi Chinda', Course='History'),\n",
       " Row(Name='Olu Alfonso', Course='History'),\n",
       " Row(Name='Amarachi Chinda', Course='Biology'),\n",
       " Row(Name='Amarachi Chinda', Course='Physics'),\n",
       " Row(Name='Olu Alfonso', Course='Chemistry'),\n",
       " Row(Name='Olu Alfonso', Course='English')]"
      ]
     },
     "execution_count": 24,
     "metadata": {},
     "output_type": "execute_result"
    }
   ],
   "source": [
    "spark.sql(\"SELECT s.Name, c.Course FROM Student s JOIN SCR sc ON s.StudentID = sc.StudentID JOIN Class c ON c.ClassID = sc.ClassID\").collect()"
   ]
  },
  {
   "cell_type": "markdown",
   "metadata": {},
   "source": [
    "# Full E-Commerce Tutorial"
   ]
  },
  {
   "cell_type": "markdown",
   "metadata": {},
   "source": [
    "Taken from [datacamp.com](https://www.datacamp.com/tutorial/pyspark-tutorial-getting-started-with-pyspark)"
   ]
  },
  {
   "cell_type": "code",
   "execution_count": 25,
   "metadata": {},
   "outputs": [],
   "source": [
    "df = spark.read.csv('online_retail.csv', header=True, escape=\"\\\"\")"
   ]
  },
  {
   "cell_type": "markdown",
   "metadata": {},
   "source": [
    "## Exploratory Data Analysis"
   ]
  },
  {
   "cell_type": "code",
   "execution_count": 26,
   "metadata": {},
   "outputs": [
    {
     "name": "stdout",
     "output_type": "stream",
     "text": [
      "+---------+---------+-----------------------------------+--------+------------+---------+----------+--------------+\n",
      "|InvoiceNo|StockCode|Description                        |Quantity|InvoiceDate |UnitPrice|CustomerID|Country       |\n",
      "+---------+---------+-----------------------------------+--------+------------+---------+----------+--------------+\n",
      "|536365   |85123A   |WHITE HANGING HEART T-LIGHT HOLDER |6       |12/1/10 8:26|2.55     |17850     |United Kingdom|\n",
      "|536365   |71053    |WHITE METAL LANTERN                |6       |12/1/10 8:26|3.39     |17850     |United Kingdom|\n",
      "|536365   |84406B   |CREAM CUPID HEARTS COAT HANGER     |8       |12/1/10 8:26|2.75     |17850     |United Kingdom|\n",
      "|536365   |84029G   |KNITTED UNION FLAG HOT WATER BOTTLE|6       |12/1/10 8:26|3.39     |17850     |United Kingdom|\n",
      "|536365   |84029E   |RED WOOLLY HOTTIE WHITE HEART.     |6       |12/1/10 8:26|3.39     |17850     |United Kingdom|\n",
      "+---------+---------+-----------------------------------+--------+------------+---------+----------+--------------+\n",
      "only showing top 5 rows\n",
      "\n"
     ]
    }
   ],
   "source": [
    "df.show(5, 0)"
   ]
  },
  {
   "cell_type": "markdown",
   "metadata": {},
   "source": [
    "The dataframe consists of 8 variables:\n",
    "\n",
    "1. InvoiceNo: The unique identifier of each customer invoice.\n",
    "2. StockCode: The unique identifier of each item in stock.\n",
    "3. Description: The item purchased by the customer.\n",
    "4. Quantity: The number of each item purchased by a customer in a single invoice.\n",
    "5. InvoiceDate: The purchase date.\n",
    "6. UnitPrice: Price of one unit of each item.\n",
    "7. CustomerID: Unique identifier assigned to each user.\n",
    "8. Country: The country from where the purchase was made"
   ]
  },
  {
   "cell_type": "markdown",
   "metadata": {},
   "source": [
    "### Size of the data"
   ]
  },
  {
   "cell_type": "code",
   "execution_count": 27,
   "metadata": {},
   "outputs": [
    {
     "data": {
      "text/plain": [
       "541909"
      ]
     },
     "execution_count": 27,
     "metadata": {},
     "output_type": "execute_result"
    }
   ],
   "source": [
    "df.count()"
   ]
  },
  {
   "cell_type": "code",
   "execution_count": 28,
   "metadata": {},
   "outputs": [
    {
     "name": "stderr",
     "output_type": "stream",
     "text": [
      "                                                                                \r"
     ]
    },
    {
     "data": {
      "text/html": [
       "<div>\n",
       "<style scoped>\n",
       "    .dataframe tbody tr th:only-of-type {\n",
       "        vertical-align: middle;\n",
       "    }\n",
       "\n",
       "    .dataframe tbody tr th {\n",
       "        vertical-align: top;\n",
       "    }\n",
       "\n",
       "    .dataframe thead th {\n",
       "        text-align: right;\n",
       "    }\n",
       "</style>\n",
       "<table border=\"1\" class=\"dataframe\">\n",
       "  <thead>\n",
       "    <tr style=\"text-align: right;\">\n",
       "      <th></th>\n",
       "      <th>summary</th>\n",
       "      <th>InvoiceNo</th>\n",
       "      <th>StockCode</th>\n",
       "      <th>Description</th>\n",
       "      <th>Quantity</th>\n",
       "      <th>InvoiceDate</th>\n",
       "      <th>UnitPrice</th>\n",
       "      <th>CustomerID</th>\n",
       "      <th>Country</th>\n",
       "    </tr>\n",
       "  </thead>\n",
       "  <tbody>\n",
       "    <tr>\n",
       "      <th>0</th>\n",
       "      <td>count</td>\n",
       "      <td>541909</td>\n",
       "      <td>541909</td>\n",
       "      <td>540455</td>\n",
       "      <td>541909</td>\n",
       "      <td>541909</td>\n",
       "      <td>541909</td>\n",
       "      <td>406829</td>\n",
       "      <td>541909</td>\n",
       "    </tr>\n",
       "    <tr>\n",
       "      <th>1</th>\n",
       "      <td>mean</td>\n",
       "      <td>559965.752026781</td>\n",
       "      <td>27623.240210938104</td>\n",
       "      <td>20713.0</td>\n",
       "      <td>9.55224954743324</td>\n",
       "      <td>None</td>\n",
       "      <td>4.611113626089702</td>\n",
       "      <td>15287.690570239585</td>\n",
       "      <td>None</td>\n",
       "    </tr>\n",
       "    <tr>\n",
       "      <th>2</th>\n",
       "      <td>stddev</td>\n",
       "      <td>13428.417280797923</td>\n",
       "      <td>16799.737628427676</td>\n",
       "      <td>None</td>\n",
       "      <td>218.08115785023432</td>\n",
       "      <td>None</td>\n",
       "      <td>96.75985306117958</td>\n",
       "      <td>1713.6003033215952</td>\n",
       "      <td>None</td>\n",
       "    </tr>\n",
       "    <tr>\n",
       "      <th>3</th>\n",
       "      <td>min</td>\n",
       "      <td>536365</td>\n",
       "      <td>10002</td>\n",
       "      <td>4 PURPLE FLOCK DINNER CANDLES</td>\n",
       "      <td>-1</td>\n",
       "      <td>1/10/11 10:04</td>\n",
       "      <td>-11062.06</td>\n",
       "      <td>12346</td>\n",
       "      <td>Australia</td>\n",
       "    </tr>\n",
       "    <tr>\n",
       "      <th>4</th>\n",
       "      <td>max</td>\n",
       "      <td>C581569</td>\n",
       "      <td>m</td>\n",
       "      <td>wrongly sold sets</td>\n",
       "      <td>992</td>\n",
       "      <td>9/9/11 9:52</td>\n",
       "      <td>99.96</td>\n",
       "      <td>18287</td>\n",
       "      <td>Unspecified</td>\n",
       "    </tr>\n",
       "  </tbody>\n",
       "</table>\n",
       "</div>"
      ],
      "text/plain": [
       "  summary           InvoiceNo           StockCode  \\\n",
       "0   count              541909              541909   \n",
       "1    mean    559965.752026781  27623.240210938104   \n",
       "2  stddev  13428.417280797923  16799.737628427676   \n",
       "3     min              536365               10002   \n",
       "4     max             C581569                   m   \n",
       "\n",
       "                      Description            Quantity    InvoiceDate  \\\n",
       "0                          540455              541909         541909   \n",
       "1                         20713.0    9.55224954743324           None   \n",
       "2                            None  218.08115785023432           None   \n",
       "3   4 PURPLE FLOCK DINNER CANDLES                  -1  1/10/11 10:04   \n",
       "4               wrongly sold sets                 992    9/9/11 9:52   \n",
       "\n",
       "           UnitPrice          CustomerID      Country  \n",
       "0             541909              406829       541909  \n",
       "1  4.611113626089702  15287.690570239585         None  \n",
       "2  96.75985306117958  1713.6003033215952         None  \n",
       "3          -11062.06               12346    Australia  \n",
       "4              99.96               18287  Unspecified  "
      ]
     },
     "execution_count": 28,
     "metadata": {},
     "output_type": "execute_result"
    }
   ],
   "source": [
    "## Descriptive stats\n",
    "df.describe().toPandas()"
   ]
  },
  {
   "cell_type": "code",
   "execution_count": 29,
   "metadata": {},
   "outputs": [],
   "source": [
    "df = df.where((df['Quantity'] >= 0) & (df['UnitPrice'] >= 0))"
   ]
  },
  {
   "cell_type": "code",
   "execution_count": 30,
   "metadata": {},
   "outputs": [
    {
     "name": "stderr",
     "output_type": "stream",
     "text": [
      "                                                                                \r"
     ]
    },
    {
     "data": {
      "text/html": [
       "<div>\n",
       "<style scoped>\n",
       "    .dataframe tbody tr th:only-of-type {\n",
       "        vertical-align: middle;\n",
       "    }\n",
       "\n",
       "    .dataframe tbody tr th {\n",
       "        vertical-align: top;\n",
       "    }\n",
       "\n",
       "    .dataframe thead th {\n",
       "        text-align: right;\n",
       "    }\n",
       "</style>\n",
       "<table border=\"1\" class=\"dataframe\">\n",
       "  <thead>\n",
       "    <tr style=\"text-align: right;\">\n",
       "      <th></th>\n",
       "      <th>summary</th>\n",
       "      <th>InvoiceNo</th>\n",
       "      <th>StockCode</th>\n",
       "      <th>Description</th>\n",
       "      <th>Quantity</th>\n",
       "      <th>InvoiceDate</th>\n",
       "      <th>UnitPrice</th>\n",
       "      <th>CustomerID</th>\n",
       "      <th>Country</th>\n",
       "    </tr>\n",
       "  </thead>\n",
       "  <tbody>\n",
       "    <tr>\n",
       "      <th>0</th>\n",
       "      <td>count</td>\n",
       "      <td>531283</td>\n",
       "      <td>531283</td>\n",
       "      <td>530691</td>\n",
       "      <td>531283</td>\n",
       "      <td>531283</td>\n",
       "      <td>531283</td>\n",
       "      <td>397924</td>\n",
       "      <td>531283</td>\n",
       "    </tr>\n",
       "    <tr>\n",
       "      <th>1</th>\n",
       "      <td>mean</td>\n",
       "      <td>559971.8861903847</td>\n",
       "      <td>27600.46057916311</td>\n",
       "      <td>None</td>\n",
       "      <td>10.655298588511208</td>\n",
       "      <td>None</td>\n",
       "      <td>3.89895361605878</td>\n",
       "      <td>15294.315170736121</td>\n",
       "      <td>None</td>\n",
       "    </tr>\n",
       "    <tr>\n",
       "      <th>2</th>\n",
       "      <td>stddev</td>\n",
       "      <td>13430.741723755973</td>\n",
       "      <td>16769.396933879452</td>\n",
       "      <td>None</td>\n",
       "      <td>156.8306171098148</td>\n",
       "      <td>None</td>\n",
       "      <td>35.87627885181999</td>\n",
       "      <td>1713.169877338221</td>\n",
       "      <td>None</td>\n",
       "    </tr>\n",
       "    <tr>\n",
       "      <th>3</th>\n",
       "      <td>min</td>\n",
       "      <td>536365</td>\n",
       "      <td>10002</td>\n",
       "      <td>4 PURPLE FLOCK DINNER CANDLES</td>\n",
       "      <td>1</td>\n",
       "      <td>1/10/11 10:32</td>\n",
       "      <td>0</td>\n",
       "      <td>12346</td>\n",
       "      <td>Australia</td>\n",
       "    </tr>\n",
       "    <tr>\n",
       "      <th>4</th>\n",
       "      <td>max</td>\n",
       "      <td>A563185</td>\n",
       "      <td>m</td>\n",
       "      <td>wrongly sold (22719) barcode</td>\n",
       "      <td>992</td>\n",
       "      <td>9/9/11 9:52</td>\n",
       "      <td>99.96</td>\n",
       "      <td>18287</td>\n",
       "      <td>Unspecified</td>\n",
       "    </tr>\n",
       "  </tbody>\n",
       "</table>\n",
       "</div>"
      ],
      "text/plain": [
       "  summary           InvoiceNo           StockCode  \\\n",
       "0   count              531283              531283   \n",
       "1    mean   559971.8861903847   27600.46057916311   \n",
       "2  stddev  13430.741723755973  16769.396933879452   \n",
       "3     min              536365               10002   \n",
       "4     max             A563185                   m   \n",
       "\n",
       "                      Description            Quantity    InvoiceDate  \\\n",
       "0                          530691              531283         531283   \n",
       "1                            None  10.655298588511208           None   \n",
       "2                            None   156.8306171098148           None   \n",
       "3   4 PURPLE FLOCK DINNER CANDLES                   1  1/10/11 10:32   \n",
       "4    wrongly sold (22719) barcode                 992    9/9/11 9:52   \n",
       "\n",
       "           UnitPrice          CustomerID      Country  \n",
       "0             531283              397924       531283  \n",
       "1   3.89895361605878  15294.315170736121         None  \n",
       "2  35.87627885181999   1713.169877338221         None  \n",
       "3                  0               12346    Australia  \n",
       "4              99.96               18287  Unspecified  "
      ]
     },
     "execution_count": 30,
     "metadata": {},
     "output_type": "execute_result"
    }
   ],
   "source": [
    "## Descriptive stats\n",
    "df.describe().toPandas()"
   ]
  },
  {
   "cell_type": "markdown",
   "metadata": {},
   "source": [
    "### Number of unique customers"
   ]
  },
  {
   "cell_type": "code",
   "execution_count": 31,
   "metadata": {},
   "outputs": [
    {
     "data": {
      "text/plain": [
       "4340"
      ]
     },
     "execution_count": 31,
     "metadata": {},
     "output_type": "execute_result"
    }
   ],
   "source": [
    "df.select('CustomerID').distinct().count()"
   ]
  },
  {
   "cell_type": "markdown",
   "metadata": {},
   "source": [
    "### Unique customers by country"
   ]
  },
  {
   "cell_type": "code",
   "execution_count": 32,
   "metadata": {},
   "outputs": [
    {
     "name": "stdout",
     "output_type": "stream",
     "text": [
      "+---------------+-------------+\n",
      "|        Country|country_count|\n",
      "+---------------+-------------+\n",
      "| United Kingdom|         3921|\n",
      "|        Germany|           94|\n",
      "|         France|           87|\n",
      "|          Spain|           30|\n",
      "|        Belgium|           25|\n",
      "|    Switzerland|           21|\n",
      "|       Portugal|           19|\n",
      "|          Italy|           14|\n",
      "|        Finland|           12|\n",
      "|        Austria|           11|\n",
      "|         Norway|           10|\n",
      "|Channel Islands|            9|\n",
      "|      Australia|            9|\n",
      "|    Netherlands|            9|\n",
      "|        Denmark|            9|\n",
      "|         Cyprus|            8|\n",
      "|          Japan|            8|\n",
      "|         Sweden|            8|\n",
      "|         Poland|            6|\n",
      "|         Greece|            4|\n",
      "+---------------+-------------+\n",
      "only showing top 20 rows\n",
      "\n"
     ]
    }
   ],
   "source": [
    "df.groupBy('Country').agg(F.countDistinct('CustomerID').alias('country_count')).orderBy(F.desc('country_count')).show()"
   ]
  },
  {
   "cell_type": "code",
   "execution_count": 33,
   "metadata": {},
   "outputs": [
    {
     "data": {
      "text/plain": [
       "DataFrame[key: string, value: string]"
      ]
     },
     "execution_count": 33,
     "metadata": {},
     "output_type": "execute_result"
    }
   ],
   "source": [
    "spark.sql(\"set spark.sql.legacy.timeParserPolicy=LEGACY\")"
   ]
  },
  {
   "cell_type": "code",
   "execution_count": 34,
   "metadata": {},
   "outputs": [],
   "source": [
    "df = df.withColumn('date', F.to_timestamp(\"InvoiceDate\", 'MM/dd/yy HH:mm'))"
   ]
  },
  {
   "cell_type": "markdown",
   "metadata": {},
   "source": [
    "### Min and max purchases"
   ]
  },
  {
   "cell_type": "code",
   "execution_count": 35,
   "metadata": {},
   "outputs": [
    {
     "name": "stderr",
     "output_type": "stream",
     "text": [
      "\r\n",
      "[Stage 98:>                                                         (0 + 8) / 8]\r\n",
      "\r\n",
      "[Stage 98:=======>                                                  (1 + 7) / 8]\r"
     ]
    },
    {
     "name": "stdout",
     "output_type": "stream",
     "text": [
      "+-------------------+-------------------+\n",
      "|          min(date)|          max(date)|\n",
      "+-------------------+-------------------+\n",
      "|2010-12-01 08:26:00|2011-12-09 12:50:00|\n",
      "+-------------------+-------------------+\n",
      "\n"
     ]
    },
    {
     "name": "stderr",
     "output_type": "stream",
     "text": [
      "\r\n",
      "[Stage 98:====================================>                     (5 + 3) / 8]\r\n",
      "\r\n",
      "                                                                                \r"
     ]
    }
   ],
   "source": [
    "df.select([F.min('date'), F.max('date')]).show()"
   ]
  },
  {
   "cell_type": "markdown",
   "metadata": {},
   "source": [
    "## Customer Segmentation by Recency, Frequency and Monetary Value"
   ]
  },
  {
   "cell_type": "markdown",
   "metadata": {},
   "source": [
    "[RFM](https://www.investopedia.com/terms/r/rfm-recency-frequency-monetary-value.asp) is commonly used in marketing to evaluate a client’s value based on their:\n",
    "\n",
    "1. Recency: How recently has each customer made a purchase?\n",
    "2. Frequency: How often have they bought something?\n",
    "3. Monetary Value: How much money do they spend on average when making purchases?"
   ]
  },
  {
   "cell_type": "markdown",
   "metadata": {},
   "source": [
    "### Calculate recency score per customer"
   ]
  },
  {
   "cell_type": "code",
   "execution_count": 36,
   "metadata": {},
   "outputs": [],
   "source": [
    "df = df.withColumn('from_date', F.lit('12/01/10 08:26'))"
   ]
  },
  {
   "cell_type": "code",
   "execution_count": 37,
   "metadata": {},
   "outputs": [],
   "source": [
    "df = df.withColumn('from_date', F.to_timestamp('from_date', 'MM/dd/yy HH:mm'))"
   ]
  },
  {
   "cell_type": "code",
   "execution_count": 38,
   "metadata": {},
   "outputs": [],
   "source": [
    "recency_df = df.withColumn('recency', F.col(\"date\").cast(\"long\") - F.col('from_date').cast(\"long\"))"
   ]
  },
  {
   "cell_type": "markdown",
   "metadata": {},
   "source": [
    "### Get the most recent time offset"
   ]
  },
  {
   "cell_type": "code",
   "execution_count": 39,
   "metadata": {},
   "outputs": [],
   "source": [
    "recency_df = recency_df.join(recency_df.groupBy('CustomerID').agg(F.max('recency').alias('recency')), on='recency', how='leftsemi')"
   ]
  },
  {
   "cell_type": "code",
   "execution_count": 40,
   "metadata": {},
   "outputs": [
    {
     "name": "stderr",
     "output_type": "stream",
     "text": [
      "\r\n",
      "[Stage 101:=======>                                                 (1 + 7) / 8]\r"
     ]
    },
    {
     "name": "stdout",
     "output_type": "stream",
     "text": [
      "+-------+---------+---------+-----------------------------------+--------+------------+---------+----------+--------------+-------------------+-------------------+\n",
      "|recency|InvoiceNo|StockCode|Description                        |Quantity|InvoiceDate |UnitPrice|CustomerID|Country       |date               |from_date          |\n",
      "+-------+---------+---------+-----------------------------------+--------+------------+---------+----------+--------------+-------------------+-------------------+\n",
      "|5220   |536384   |82484    |WOOD BLACK BOARD ANT WHITE FINISH  |3       |12/1/10 9:53|6.45     |18074     |United Kingdom|2010-12-01 09:53:00|2010-12-01 08:26:00|\n",
      "|5220   |536384   |84755    |COLOUR GLASS T-LIGHT HOLDER HANGING|48      |12/1/10 9:53|0.65     |18074     |United Kingdom|2010-12-01 09:53:00|2010-12-01 08:26:00|\n",
      "|5220   |536384   |22464    |HANGING METAL HEART LANTERN        |12      |12/1/10 9:53|1.65     |18074     |United Kingdom|2010-12-01 09:53:00|2010-12-01 08:26:00|\n",
      "|5220   |536384   |21324    |HANGING MEDINA LANTERN SMALL       |6       |12/1/10 9:53|2.95     |18074     |United Kingdom|2010-12-01 09:53:00|2010-12-01 08:26:00|\n",
      "|5220   |536384   |22457    |NATURAL SLATE HEART CHALKBOARD     |12      |12/1/10 9:53|2.95     |18074     |United Kingdom|2010-12-01 09:53:00|2010-12-01 08:26:00|\n",
      "+-------+---------+---------+-----------------------------------+--------+------------+---------+----------+--------------+-------------------+-------------------+\n",
      "only showing top 5 rows\n",
      "\n"
     ]
    },
    {
     "name": "stderr",
     "output_type": "stream",
     "text": [
      "\r\n",
      "                                                                                \r"
     ]
    }
   ],
   "source": [
    "recency_df.show(5, 0)"
   ]
  },
  {
   "cell_type": "markdown",
   "metadata": {},
   "source": [
    "### Calculate Frequency"
   ]
  },
  {
   "cell_type": "code",
   "execution_count": 41,
   "metadata": {},
   "outputs": [],
   "source": [
    "freq_df = recency_df.groupBy('CustomerID').agg(F.count('InvoiceDate').alias('frequency'))"
   ]
  },
  {
   "cell_type": "code",
   "execution_count": 42,
   "metadata": {},
   "outputs": [
    {
     "name": "stderr",
     "output_type": "stream",
     "text": [
      "                                                                                \r"
     ]
    },
    {
     "name": "stdout",
     "output_type": "stream",
     "text": [
      "+----------+---------+\n",
      "|CustomerID|frequency|\n",
      "+----------+---------+\n",
      "|17714     |10       |\n",
      "|17551     |43       |\n",
      "|13187     |37       |\n",
      "|15052     |30       |\n",
      "|17128     |14       |\n",
      "+----------+---------+\n",
      "only showing top 5 rows\n",
      "\n"
     ]
    },
    {
     "name": "stderr",
     "output_type": "stream",
     "text": [
      "\r\n",
      "[Stage 108:=======>                                                 (1 + 7) / 8]\r\n",
      "\r\n",
      "                                                                                \r"
     ]
    }
   ],
   "source": [
    "freq_df.show(5, 0)"
   ]
  },
  {
   "cell_type": "code",
   "execution_count": 43,
   "metadata": {},
   "outputs": [],
   "source": [
    "combined_freq_recency = recency_df.join(freq_df, on='CustomerID', how='inner')"
   ]
  },
  {
   "cell_type": "markdown",
   "metadata": {},
   "source": [
    "### Total Amount spent"
   ]
  },
  {
   "cell_type": "code",
   "execution_count": 44,
   "metadata": {},
   "outputs": [],
   "source": [
    "total_amt_df = combined_freq_recency.withColumn('TotalAmount', F.abs(F.col('Quantity')) * F.abs(F.col('UnitPrice')))"
   ]
  },
  {
   "cell_type": "markdown",
   "metadata": {},
   "source": [
    "#### By customer"
   ]
  },
  {
   "cell_type": "code",
   "execution_count": 45,
   "metadata": {},
   "outputs": [],
   "source": [
    "total_amt_df = total_amt_df.groupBy('CustomerID').agg(F.sum('TotalAmount').alias('monetary_value'))"
   ]
  },
  {
   "cell_type": "code",
   "execution_count": 46,
   "metadata": {},
   "outputs": [],
   "source": [
    "final_df = total_amt_df.join(combined_freq_recency, on='CustomerID', how='inner')"
   ]
  },
  {
   "cell_type": "markdown",
   "metadata": {},
   "source": [
    "### Final RFM dataframe"
   ]
  },
  {
   "cell_type": "code",
   "execution_count": 47,
   "metadata": {},
   "outputs": [],
   "source": [
    "final_df = final_df.select(['recency','frequency','monetary_value','CustomerID']).distinct()"
   ]
  },
  {
   "cell_type": "code",
   "execution_count": 48,
   "metadata": {},
   "outputs": [
    {
     "name": "stderr",
     "output_type": "stream",
     "text": [
      "                                                                                \r"
     ]
    },
    {
     "name": "stdout",
     "output_type": "stream",
     "text": [
      "+-------+---------+------------------+----------+\n",
      "|recency|frequency|    monetary_value|CustomerID|\n",
      "+-------+---------+------------------+----------+\n",
      "|4586760|       10|             153.0|     17714|\n",
      "|1230360|       43|            306.84|     17551|\n",
      "|3148260|       37|236.01999999999995|     13187|\n",
      "|4692360|       30|            215.78|     15052|\n",
      "|3382560|       14|            157.09|     17128|\n",
      "+-------+---------+------------------+----------+\n",
      "only showing top 5 rows\n",
      "\n"
     ]
    }
   ],
   "source": [
    "final_df.show(5)"
   ]
  },
  {
   "cell_type": "markdown",
   "metadata": {},
   "source": [
    "## Standardization"
   ]
  },
  {
   "cell_type": "code",
   "execution_count": 49,
   "metadata": {},
   "outputs": [],
   "source": [
    "from pyspark.ml.feature import VectorAssembler, StandardScaler"
   ]
  },
  {
   "cell_type": "code",
   "execution_count": 50,
   "metadata": {},
   "outputs": [],
   "source": [
    "# transform data into a single column feature vector for ML\n",
    "assembler = VectorAssembler(inputCols=['recency', 'frequency', 'monetary_value'], outputCol='features')\n",
    "assembled_vector = assembler.transform(final_df)"
   ]
  },
  {
   "cell_type": "code",
   "execution_count": 51,
   "metadata": {},
   "outputs": [
    {
     "name": "stderr",
     "output_type": "stream",
     "text": [
      "\r\n",
      "[Stage 130:=======>                                                 (1 + 7) / 8]\r\n",
      "\r\n",
      "                                                                                \r"
     ]
    },
    {
     "name": "stdout",
     "output_type": "stream",
     "text": [
      "+-------+---------+------------------+----------+-----------------------------------+\n",
      "|recency|frequency|monetary_value    |CustomerID|features                           |\n",
      "+-------+---------+------------------+----------+-----------------------------------+\n",
      "|4586760|10       |153.0             |17714     |[4586760.0,10.0,153.0]             |\n",
      "|1230360|43       |306.84            |17551     |[1230360.0,43.0,306.84]            |\n",
      "|3148260|37       |236.01999999999995|13187     |[3148260.0,37.0,236.01999999999995]|\n",
      "|4692360|30       |215.78            |15052     |[4692360.0,30.0,215.78]            |\n",
      "|3382560|14       |157.09            |17128     |[3382560.0,14.0,157.09]            |\n",
      "+-------+---------+------------------+----------+-----------------------------------+\n",
      "only showing top 5 rows\n",
      "\n"
     ]
    }
   ],
   "source": [
    "assembled_vector.show(5, 0)"
   ]
  },
  {
   "cell_type": "code",
   "execution_count": 52,
   "metadata": {},
   "outputs": [
    {
     "name": "stderr",
     "output_type": "stream",
     "text": [
      "                                                                                \r"
     ]
    }
   ],
   "source": [
    "scaler = StandardScaler(inputCol='features', outputCol='standardized')\n",
    "fitted_scaler = scaler.fit(assembled_vector)\n",
    "data_scaled = fitted_scaler.transform(assembled_vector)"
   ]
  },
  {
   "cell_type": "code",
   "execution_count": 53,
   "metadata": {},
   "outputs": [
    {
     "name": "stderr",
     "output_type": "stream",
     "text": [
      "                                                                                \r"
     ]
    },
    {
     "name": "stdout",
     "output_type": "stream",
     "text": [
      "+-----------------------------------------------------------+\n",
      "|standardized                                               |\n",
      "+-----------------------------------------------------------+\n",
      "|[0.5284565819451322,0.2524151595200207,0.05460019967898049]|\n",
      "|[0.1417540573655506,1.0853851859360888,0.10950016516012008]|\n",
      "+-----------------------------------------------------------+\n",
      "only showing top 2 rows\n",
      "\n"
     ]
    }
   ],
   "source": [
    "data_scaled.select('standardized').show(2, 0)"
   ]
  },
  {
   "cell_type": "markdown",
   "metadata": {},
   "source": [
    "## Clustering with SparkML"
   ]
  },
  {
   "cell_type": "code",
   "execution_count": 54,
   "metadata": {},
   "outputs": [],
   "source": [
    "from pyspark.ml.clustering import KMeans\n",
    "from pyspark.ml.evaluation import ClusteringEvaluator\n",
    "import numpy as np"
   ]
  },
  {
   "cell_type": "code",
   "execution_count": 55,
   "metadata": {},
   "outputs": [],
   "source": [
    "cost = np.zeros(10)"
   ]
  },
  {
   "cell_type": "code",
   "execution_count": 56,
   "metadata": {},
   "outputs": [],
   "source": [
    "evaluator = ClusteringEvaluator(predictionCol='prediction', featuresCol='standardized', metricName='silhouette', distanceMeasure='squaredEuclidean')"
   ]
  },
  {
   "cell_type": "code",
   "execution_count": 57,
   "metadata": {},
   "outputs": [
    {
     "name": "stderr",
     "output_type": "stream",
     "text": [
      "                                                                                \r"
     ]
    },
    {
     "name": "stdout",
     "output_type": "stream",
     "text": [
      "22/11/28 23:49:57 WARN InstanceBuilder$JavaBLAS: Failed to load implementation from:dev.ludovic.netlib.blas.VectorBLAS\n"
     ]
    },
    {
     "name": "stderr",
     "output_type": "stream",
     "text": [
      "                                                                                \r"
     ]
    }
   ],
   "source": [
    "for k in range(2, 10):\n",
    "    k_means = KMeans(featuresCol='standardized', k=k)\n",
    "    k_means_fitted = k_means.fit(data_scaled)\n",
    "    predictions = k_means_fitted.transform(data_scaled)\n",
    "    cost[k] = k_means_fitted.summary.trainingCost"
   ]
  },
  {
   "cell_type": "markdown",
   "metadata": {},
   "source": [
    "### Plot Elbow curve of silhouette scores"
   ]
  },
  {
   "cell_type": "code",
   "execution_count": 58,
   "metadata": {},
   "outputs": [
    {
     "data": {
      "text/plain": [
       "Text(0.5, 1.0, 'Elbow Curve')"
      ]
     },
     "execution_count": 58,
     "metadata": {},
     "output_type": "execute_result"
    },
    {
     "data": {
      "image/png": "[encoded data removed]",
      "text/plain": [
       "<Figure size 432x288 with 1 Axes>"
      ]
     },
     "metadata": {
      "needs_background": "light"
     },
     "output_type": "display_data"
    }
   ],
   "source": [
    "import pandas as pd\n",
    "\n",
    "df_cost = pd.DataFrame(cost[2:])\n",
    "df_cost.columns = [\"cost\"]\n",
    "new_col = range(2,10)\n",
    "df_cost.insert(0, 'cluster', new_col)\n",
    "plt.plot(df_cost.cluster, df_cost.cost)\n",
    "plt.xlabel('Number of Clusters')\n",
    "plt.ylabel('Score')\n",
    "plt.title('Elbow Curve')"
   ]
  },
  {
   "cell_type": "markdown",
   "metadata": {},
   "source": [
    "Looks like $k=4$"
   ]
  },
  {
   "cell_type": "code",
   "execution_count": 59,
   "metadata": {},
   "outputs": [
    {
     "name": "stderr",
     "output_type": "stream",
     "text": [
      "                                                                                \r"
     ]
    }
   ],
   "source": [
    "k_means = KMeans(featuresCol='standardized', k=4)\n",
    "k_means_fitted = k_means.fit(data_scaled)"
   ]
  },
  {
   "cell_type": "code",
   "execution_count": 60,
   "metadata": {},
   "outputs": [],
   "source": [
    "predictions = k_means_fitted.transform(data_scaled)"
   ]
  },
  {
   "cell_type": "code",
   "execution_count": 61,
   "metadata": {},
   "outputs": [
    {
     "name": "stderr",
     "output_type": "stream",
     "text": [
      "                                                                                \r"
     ]
    },
    {
     "name": "stdout",
     "output_type": "stream",
     "text": [
      "+-------+---------+------------------+----------+-----------------------------------+-----------------------------------------------------------+----------+\n",
      "|recency|frequency|monetary_value    |CustomerID|features                           |standardized                                               |prediction|\n",
      "+-------+---------+------------------+----------+-----------------------------------+-----------------------------------------------------------+----------+\n",
      "|4586760|10       |153.0             |17714     |[4586760.0,10.0,153.0]             |[0.5284565819451322,0.2524151595200207,0.05460019967898049]|0         |\n",
      "|1230360|43       |306.84            |17551     |[1230360.0,43.0,306.84]            |[0.1417540573655506,1.0853851859360888,0.10950016516012008]|0         |\n",
      "|3148260|37       |236.01999999999995|13187     |[3148260.0,37.0,236.01999999999995]|[0.36272199083330764,0.9339360902240764,0.0842270531257057]|0         |\n",
      "|4692360|30       |215.78            |15052     |[4692360.0,30.0,215.78]            |[0.5406231254428094,0.757245478560062,0.07700412474987196] |0         |\n",
      "|3382560|14       |157.09            |17128     |[3382560.0,14.0,157.09]            |[0.389716509218779,0.3533812233280289,0.056059773644255205]|0         |\n",
      "+-------+---------+------------------+----------+-----------------------------------+-----------------------------------------------------------+----------+\n",
      "only showing top 5 rows\n",
      "\n"
     ]
    }
   ],
   "source": [
    "predictions.show(5, 0)"
   ]
  },
  {
   "cell_type": "code",
   "execution_count": 62,
   "metadata": {},
   "outputs": [
    {
     "name": "stderr",
     "output_type": "stream",
     "text": [
      "\r\n",
      "[Stage 1000:==============> (7 + 1) / 8][Stage 1001:==>             (1 + 7) / 8]\r\n",
      "\r\n",
      "                                                                                \r"
     ]
    },
    {
     "name": "stdout",
     "output_type": "stream",
     "text": [
      "+------------+------------+--------------+--------------+-------------------+-------------------+\n",
      "|min(recency)|max(recency)|min(frequency)|max(frequency)|min(monetary_value)|max(monetary_value)|\n",
      "+------------+------------+--------------+--------------+-------------------+-------------------+\n",
      "|        5220|    32243040|             1|           543|                0.0|           168469.6|\n",
      "+------------+------------+--------------+--------------+-------------------+-------------------+\n",
      "\n"
     ]
    }
   ],
   "source": [
    "predictions.select(F.min('recency'), F.max('recency'), F.min('frequency'), F.max('frequency'), F.min('monetary_value'), F.max('monetary_value')).show()"
   ]
  },
  {
   "cell_type": "markdown",
   "metadata": {},
   "source": [
    "## Cluster Analysis"
   ]
  },
  {
   "cell_type": "code",
   "execution_count": 63,
   "metadata": {},
   "outputs": [],
   "source": [
    "import seaborn as sns"
   ]
  },
  {
   "cell_type": "code",
   "execution_count": 64,
   "metadata": {},
   "outputs": [],
   "source": [
    "df_viz = predictions.select(['recency', 'frequency', 'monetary_value', 'prediction']).toPandas()"
   ]
  },
  {
   "cell_type": "code",
   "execution_count": 65,
   "metadata": {},
   "outputs": [],
   "source": [
    "avg_df = df_viz.groupby(['prediction'], as_index=False).mean()"
   ]
  },
  {
   "cell_type": "code",
   "execution_count": 66,
   "metadata": {},
   "outputs": [
    {
     "data": {
      "text/plain": [
       "<AxesSubplot:xlabel='prediction', ylabel='recency'>"
      ]
     },
     "execution_count": 66,
     "metadata": {},
     "output_type": "execute_result"
    },
    {
     "data": {
      "image/png": "[encoded data removed]",
      "text/plain": [
       "<Figure size 432x288 with 1 Axes>"
      ]
     },
     "metadata": {
      "needs_background": "light"
     },
     "output_type": "display_data"
    }
   ],
   "source": [
    "sns.barplot(x='prediction', y='recency', data=avg_df)"
   ]
  },
  {
   "cell_type": "code",
   "execution_count": 67,
   "metadata": {},
   "outputs": [
    {
     "data": {
      "text/plain": [
       "<AxesSubplot:xlabel='prediction', ylabel='frequency'>"
      ]
     },
     "execution_count": 67,
     "metadata": {},
     "output_type": "execute_result"
    },
    {
     "data": {
      "image/png": "[encoded data removed]",
      "text/plain": [
       "<Figure size 432x288 with 1 Axes>"
      ]
     },
     "metadata": {
      "needs_background": "light"
     },
     "output_type": "display_data"
    }
   ],
   "source": [
    "sns.barplot(x='prediction', y='frequency', data=avg_df)"
   ]
  },
  {
   "cell_type": "code",
   "execution_count": 68,
   "metadata": {},
   "outputs": [
    {
     "data": {
      "text/plain": [
       "<AxesSubplot:xlabel='prediction', ylabel='monetary_value'>"
      ]
     },
     "execution_count": 68,
     "metadata": {},
     "output_type": "execute_result"
    },
    {
     "data": {
      "image/png": "[encoded data removed]",
      "text/plain": [
       "<Figure size 432x288 with 1 Axes>"
      ]
     },
     "metadata": {
      "needs_background": "light"
     },
     "output_type": "display_data"
    }
   ],
   "source": [
    "sns.barplot(x='prediction', y='monetary_value', data=avg_df)"
   ]
  },
  {
   "cell_type": "code",
   "execution_count": null,
   "metadata": {},
   "outputs": [],
   "source": []
  }
 ],
 "metadata": {
  "kernelspec": {
   "display_name": "Python 3 (ipykernel)",
   "language": "python",
   "name": "python3"
  },
  "language_info": {
   "codemirror_mode": {
    "name": "ipython",
    "version": 3
   },
   "file_extension": ".py",
   "mimetype": "text/x-python",
   "name": "python",
   "nbconvert_exporter": "python",
   "pygments_lexer": "ipython3",
   "version": "3.8.8"
  },
  "vscode": {
   "interpreter": {
    "hash": "7b590bc3e5a2c47ca05f180ff2e2b7c7cd259969adaa011c53d2a15354efb335"
   }
  }
 },
 "nbformat": 4,
 "nbformat_minor": 2
}
